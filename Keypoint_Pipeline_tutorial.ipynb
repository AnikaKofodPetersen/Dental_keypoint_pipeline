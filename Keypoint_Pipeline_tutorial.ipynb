{
 "cells": [
  {
   "cell_type": "markdown",
   "id": "1bfefa83-cee2-4bed-b6b3-e5e880041546",
   "metadata": {},
   "source": [
    "# Keypoint Pipeline Tutorial"
   ]
  },
  {
   "cell_type": "markdown",
   "id": "eff85fb1-c152-462b-9a20-5e9c08a849f5",
   "metadata": {},
   "source": [
    "### Welcome to the keypoint pipeline tutorial! \n",
    "#### This is where you will learn how to use the code, while you wait for the user interface to be build"
   ]
  },
  {
   "cell_type": "markdown",
   "id": "389e756d-a1a0-4d04-8abd-8d2dcedc6593",
   "metadata": {},
   "source": [
    "Lets start with importing the necessary libraries and code files"
   ]
  },
  {
   "cell_type": "code",
   "execution_count": 6,
   "id": "b78101b8-a0c7-4159-a706-a29c5846bed4",
   "metadata": {},
   "outputs": [],
   "source": [
    "# Imports\n",
    "import keypoint_pipeline as kp\n",
    "import grid_cut as gc\n",
    "import vedo "
   ]
  },
  {
   "cell_type": "markdown",
   "id": "65b3ecc8-46fc-43b8-bf5e-8ff3f386a02f",
   "metadata": {},
   "source": [
    "if you found that you were not able to import these libraries and packages succesfully, you might not be using the right kernel.\n",
    "Check that you are using the \"AKPpyshot_kernel\" in the top right corner. Otherwise, consult the environment tutorial."
   ]
  },
  {
   "cell_type": "markdown",
   "id": "e95bc785-eeb7-498c-9035-195eb6b934e6",
   "metadata": {},
   "source": [
    "Once you have everything setup, lets begin:"
   ]
  },
  {
   "cell_type": "markdown",
   "id": "da82b915-fcbf-46b9-a6c7-a9219ed19df5",
   "metadata": {},
   "source": [
    "### Load your teeth"
   ]
  },
  {
   "cell_type": "markdown",
   "id": "2eb840b8-048b-4bdf-b36e-f385eb938072",
   "metadata": {},
   "source": [
    "You should have two stl-files that you want to compare.\n",
    "Start out by clarifying where they are on your computer, by setting the paths.\n"
   ]
  },
  {
   "cell_type": "code",
   "execution_count": 5,
   "id": "e127f5fd-7ca4-455c-9f0d-ab31ec0069df",
   "metadata": {},
   "outputs": [],
   "source": [
    "# Define mesh paths\n",
    "AM_path = \"/path/to/am_teeth.stl\"\n",
    "PM_path = \"/path/to/pm_teeth.stl\"\n",
    "output_path = \"/path/to/a/directory\""
   ]
  },
  {
   "cell_type": "markdown",
   "id": "d7d3e697-5116-4e48-98d7-e58a6b01f146",
   "metadata": {},
   "source": [
    "Now we want to load the meshes into memory"
   ]
  },
  {
   "cell_type": "code",
   "execution_count": null,
   "id": "769b2470-1277-46ab-9d22-10e580130c31",
   "metadata": {},
   "outputs": [],
   "source": [
    "# Load meshes\n",
    "AM_mesh = vedo.load(AM_path)\n",
    "PM_mesh = vedo.load(PM_path)"
   ]
  },
  {
   "cell_type": "markdown",
   "id": "f23237ba-063d-4d22-8158-2f8e292a9bdd",
   "metadata": {},
   "source": [
    "### Remove soft tissue"
   ]
  },
  {
   "cell_type": "markdown",
   "id": "cb4ffde1-0440-474d-bc81-733bfb10aa69",
   "metadata": {},
   "source": [
    "To remove soft tissue, we will use the grid-cutting method with specific settings. You can alter these settings according to your needs. For more info, consult the grid cutting methods github page: https://github.com/AnikaKofodPetersen/Grid-Cutting/tree/main"
   ]
  },
  {
   "cell_type": "code",
   "execution_count": null,
   "id": "131ab494-f8d4-4f88-b5a1-6042c47971f4",
   "metadata": {},
   "outputs": [],
   "source": [
    "# Orient dental mesh\n",
    "AM_oriented = gc.orient_mesh(AM_mesh, teeth_type = \"max\")\n",
    "PM_oriented = gc.orient_mesh(PM_mesh, teeth_type = \"max\")\n",
    "\n",
    "# Cut away soft tissue\n",
    "AM_cutmesh = gc.cut_mesh(AM_oriented, ratio = 0.33, cut_resolution= 5, inclusion_thres = 8, name=\"AM_cutmesh\",out_path=output_path)\n",
    "PM_cutmesh = gc.cut_mesh(PM_oriented, ratio = 0.33, cut_resolution= 5, inclusion_thres = 8, name=\"PM_cutmesh\",out_path=output_path)"
   ]
  },
  {
   "cell_type": "markdown",
   "id": "40c54cea-350e-4712-bdb7-4306288d5c37",
   "metadata": {},
   "source": [
    "### Detect keypoints"
   ]
  },
  {
   "cell_type": "markdown",
   "id": "1442f1ef-d69c-4ff1-80b4-91735a5d5d27",
   "metadata": {},
   "source": [
    "To detect keypoints, use the following function"
   ]
  },
  {
   "cell_type": "code",
   "execution_count": null,
   "id": "80061b41-175c-4ad9-8915-2dc7b9b42cf5",
   "metadata": {},
   "outputs": [],
   "source": [
    "# Detect keypoints\n",
    "AM_keypoints_idx, AM_keypoints_pts = kp.keypoint_detection(AM_cutmesh, name = \"AM_keypoints\", res=40, returnIdx = True, returnPts = True, inspection = False)\n",
    "PM_keypoints_idx, PM_keypoints_pts = kp.keypoint_detection(PM_cutmesh, name = \"PM_keypoints\", res=40, returnIdx = True, returnPts = True, inspection = False)"
   ]
  },
  {
   "cell_type": "markdown",
   "id": "f12893e4-20d7-44b9-a657-9146225c3451",
   "metadata": {},
   "source": [
    "To save non-encoded keypoints, use the save function"
   ]
  },
  {
   "cell_type": "code",
   "execution_count": null,
   "id": "8615ddfc-357d-46a2-b621-4ebf4c81cdfc",
   "metadata": {},
   "outputs": [],
   "source": [
    "# Save keypoints\n",
    "kp.save_keypoints({i: value for i, value in enumerate(AM_keypoints_idx)}, \"AM_keypoints_idx\", output_path)\n",
    "kp.save_keypoints({i: value.tolist() for i, value in enumerate(AM_keypoints_pts)}, \"AM_keypoints_pts\", output_path)\n",
    "kp.save_keypoints({i: value for i, value in enumerate(PM_keypoints_idx)}, \"PM_keypoints_idx\", output_path)\n",
    "kp.save_keypoints({i: value.tolist() for i, value in enumerate(PM_keypoints_pts)}, \"PM_keypoints_pts\", output_path)"
   ]
  },
  {
   "cell_type": "markdown",
   "id": "0c64343e-27cb-4bcf-95ea-f20966826000",
   "metadata": {},
   "source": [
    "### Represent keypoints"
   ]
  },
  {
   "cell_type": "markdown",
   "id": "ed05901d-6ec4-4b1d-ae6c-bcbc23a324e9",
   "metadata": {},
   "source": [
    "To SHOT-encode the keypoints, do the following:"
   ]
  },
  {
   "cell_type": "code",
   "execution_count": null,
   "id": "c3afde01-229a-4f66-811d-61765aaf9f87",
   "metadata": {},
   "outputs": [],
   "source": [
    "# Represent keypoints\n",
    "AM_SHOT = kp.calculate_SHOT(AM_keypoints_idx,AM_cutmesh, radius=2)\n",
    "PM_SHOT = kp.calculate_SHOT(PM_keypoints_idx,PM_cutmesh, radius=2)"
   ]
  },
  {
   "cell_type": "markdown",
   "id": "be4d9a8a-b578-4800-a0d2-e7a74a0f506a",
   "metadata": {},
   "source": [
    "To save the keypoints as a JSON file, use the save fucntion"
   ]
  },
  {
   "cell_type": "code",
   "execution_count": null,
   "id": "69df3541-451f-4906-be2e-a856ec4eadd0",
   "metadata": {},
   "outputs": [],
   "source": [
    "# Save keypoints\n",
    "kp.save_keypoints(AM_SHOT, \"AM_SHOT\", output_path)\n",
    "kp.save_keypoints(PM_SHOT, \"PM_SHOT\", output_path)"
   ]
  },
  {
   "cell_type": "markdown",
   "id": "cded7e09-59d5-49e8-ba53-8c74ced6ccfe",
   "metadata": {},
   "source": [
    "### Compare keypoints"
   ]
  },
  {
   "cell_type": "markdown",
   "id": "2cc752db-b839-4e87-8e34-5cae54680b16",
   "metadata": {},
   "source": [
    "To compare keypoints between the two meshes, use the compare function"
   ]
  },
  {
   "cell_type": "code",
   "execution_count": null,
   "id": "4930ad01-4588-4c04-aaca-fe65c8c8e7e9",
   "metadata": {},
   "outputs": [],
   "source": [
    "score = keypoint_correspondence(AM_SHOT, PM_SHOT, AM_keypoints_pts, PM_keypoints_pts)\n",
    "print('similarity score: ',score)"
   ]
  },
  {
   "cell_type": "markdown",
   "id": "f3bb5c72-0ed0-49ca-ae3c-332f8ca6c2c5",
   "metadata": {},
   "source": [
    "And there you have it, the final score of similarity :) "
   ]
  },
  {
   "cell_type": "code",
   "execution_count": null,
   "id": "fa393b10-d3d0-452b-b135-1bccde6b1703",
   "metadata": {},
   "outputs": [],
   "source": []
  }
 ],
 "metadata": {
  "kernelspec": {
   "display_name": "pyshot_kernel_manual1",
   "language": "python",
   "name": "pyshot_kernel_manual1"
  },
  "language_info": {
   "codemirror_mode": {
    "name": "ipython",
    "version": 3
   },
   "file_extension": ".py",
   "mimetype": "text/x-python",
   "name": "python",
   "nbconvert_exporter": "python",
   "pygments_lexer": "ipython3",
   "version": "3.10.14"
  }
 },
 "nbformat": 4,
 "nbformat_minor": 5
}
